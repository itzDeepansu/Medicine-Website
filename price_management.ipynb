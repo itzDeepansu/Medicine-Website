{
  "nbformat": 4,
  "nbformat_minor": 0,
  "metadata": {
    "colab": {
      "provenance": [],
      "authorship_tag": "ABX9TyN5KmtRWFVIa3BIHRHzYTLo",
      "include_colab_link": true
    },
    "kernelspec": {
      "name": "python3",
      "display_name": "Python 3"
    },
    "language_info": {
      "name": "python"
    }
  },
  "cells": [
    {
      "cell_type": "markdown",
      "metadata": {
        "id": "view-in-github",
        "colab_type": "text"
      },
      "source": [
        "<a href=\"https://colab.research.google.com/github/itzDeepansu/Medicine-Website/blob/main/price_management.ipynb\" target=\"_parent\"><img src=\"https://colab.research.google.com/assets/colab-badge.svg\" alt=\"Open In Colab\"/></a>"
      ]
    },
    {
      "cell_type": "code",
      "execution_count": 56,
      "metadata": {
        "id": "m9ERyiRO3ukQ"
      },
      "outputs": [],
      "source": [
        "import pandas as pd\n",
        "from sklearn.model_selection import train_test_split\n",
        "from sklearn.linear_model import LinearRegression\n",
        "import numpy as np\n",
        "\n",
        "# Load the data from CSV files\n",
        "years = [\"2019\", \"2020\", \"2021\", \"2022\", \"2023\"]\n",
        "dataframes = []\n",
        "\n",
        "for year in years:\n",
        "    filename = f\"disease_{year}.csv\"\n",
        "    df = pd.read_csv(filename, index_col=0)  # Assuming the first column contains area names\n",
        "    dataframes.append(df)\n",
        "\n",
        "# Concatenate all dataframes vertically\n",
        "combined_df = pd.concat(dataframes)\n",
        "\n",
        "predictions_table = np.zeros((35,20))\n",
        "risk_table = np.zeros((35,20))\n",
        "for lp in range (0,35):\n",
        "  for disease in range (0,20):\n",
        "    area=[]\n",
        "    dis=[]\n",
        "    j=0\n",
        "    for i in range (lp,175,35):\n",
        "      area.append(combined_df.iloc[i])\n",
        "      dis.append(area[j][disease])\n",
        "      j=j+1\n",
        "\n",
        "    # Making Predictions\n",
        "    lag_values = []\n",
        "    for i in range(1, len(dis)):\n",
        "        lag_values.append(dis[i-1])\n",
        "    X = np.array(lag_values).reshape(-1, 1)\n",
        "    y = np.array(dis[1:])\n",
        "    model = LinearRegression()\n",
        "    model.fit(X, y)\n",
        "    next_value = model.predict([[dis[-1]]])\n",
        "\n",
        "    for i in range (0,5):\n",
        "      if(next_value[0]>dis[i]):\n",
        "        risk_table[lp][disease]=risk_table[lp][disease]+1\n",
        "\n",
        "    predictions_table[lp][disease]=next_value[0]\n",
        "dfend = pd.DataFrame(predictions_table)\n",
        "dfend.index = combined_df.index[:35]\n",
        "dfend.columns = combined_df.columns\n",
        "dfend.to_csv('predictions.csv', index=True)\n",
        "\n",
        "\n",
        "dfend2 = pd.DataFrame(risk_table)\n",
        "dfend2.index = combined_df.index[:35]\n",
        "dfend2.columns = combined_df.columns\n",
        "dfend2.to_csv('risk.csv', index=True)"
      ]
    },
    {
      "cell_type": "code",
      "source": [],
      "metadata": {
        "id": "82OrGsbq4dWr"
      },
      "execution_count": null,
      "outputs": []
    }
  ]
}